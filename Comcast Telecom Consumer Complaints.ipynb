{
 "cells": [
  {
   "cell_type": "code",
   "execution_count": 1,
   "id": "b0e790b8",
   "metadata": {},
   "outputs": [],
   "source": [
    "import numpy as np\n",
    "import pandas as pd\n",
    "import matplotlib.pyplot as plt\n",
    "import seaborn as sns"
   ]
  },
  {
   "cell_type": "markdown",
   "id": "cddb4b89",
   "metadata": {},
   "source": [
    "## Importing data into python environment"
   ]
  },
  {
   "cell_type": "code",
   "execution_count": 2,
   "id": "1c0f5661",
   "metadata": {},
   "outputs": [],
   "source": [
    "df=pd.read_csv('Comcast_telecom_complaints_data.csv')"
   ]
  },
  {
   "cell_type": "code",
   "execution_count": 3,
   "id": "f3421828",
   "metadata": {},
   "outputs": [
    {
     "data": {
      "text/html": [
       "<div>\n",
       "<style scoped>\n",
       "    .dataframe tbody tr th:only-of-type {\n",
       "        vertical-align: middle;\n",
       "    }\n",
       "\n",
       "    .dataframe tbody tr th {\n",
       "        vertical-align: top;\n",
       "    }\n",
       "\n",
       "    .dataframe thead th {\n",
       "        text-align: right;\n",
       "    }\n",
       "</style>\n",
       "<table border=\"1\" class=\"dataframe\">\n",
       "  <thead>\n",
       "    <tr style=\"text-align: right;\">\n",
       "      <th></th>\n",
       "      <th>Ticket #</th>\n",
       "      <th>Customer Complaint</th>\n",
       "      <th>Date</th>\n",
       "      <th>Date_month_year</th>\n",
       "      <th>Time</th>\n",
       "      <th>Received Via</th>\n",
       "      <th>City</th>\n",
       "      <th>State</th>\n",
       "      <th>Zip code</th>\n",
       "      <th>Status</th>\n",
       "      <th>Filing on Behalf of Someone</th>\n",
       "    </tr>\n",
       "  </thead>\n",
       "  <tbody>\n",
       "    <tr>\n",
       "      <th>0</th>\n",
       "      <td>250635</td>\n",
       "      <td>Comcast Cable Internet Speeds</td>\n",
       "      <td>22-04-15</td>\n",
       "      <td>22-Apr-15</td>\n",
       "      <td>3:53:50 PM</td>\n",
       "      <td>Customer Care Call</td>\n",
       "      <td>Abingdon</td>\n",
       "      <td>Maryland</td>\n",
       "      <td>21009</td>\n",
       "      <td>Closed</td>\n",
       "      <td>No</td>\n",
       "    </tr>\n",
       "    <tr>\n",
       "      <th>1</th>\n",
       "      <td>223441</td>\n",
       "      <td>Payment disappear - service got disconnected</td>\n",
       "      <td>04-08-15</td>\n",
       "      <td>04-Aug-15</td>\n",
       "      <td>10:22:56 AM</td>\n",
       "      <td>Internet</td>\n",
       "      <td>Acworth</td>\n",
       "      <td>Georgia</td>\n",
       "      <td>30102</td>\n",
       "      <td>Closed</td>\n",
       "      <td>No</td>\n",
       "    </tr>\n",
       "    <tr>\n",
       "      <th>2</th>\n",
       "      <td>242732</td>\n",
       "      <td>Speed and Service</td>\n",
       "      <td>18-04-15</td>\n",
       "      <td>18-Apr-15</td>\n",
       "      <td>9:55:47 AM</td>\n",
       "      <td>Internet</td>\n",
       "      <td>Acworth</td>\n",
       "      <td>Georgia</td>\n",
       "      <td>30101</td>\n",
       "      <td>Closed</td>\n",
       "      <td>Yes</td>\n",
       "    </tr>\n",
       "    <tr>\n",
       "      <th>3</th>\n",
       "      <td>277946</td>\n",
       "      <td>Comcast Imposed a New Usage Cap of 300GB that ...</td>\n",
       "      <td>05-07-15</td>\n",
       "      <td>05-Jul-15</td>\n",
       "      <td>11:59:35 AM</td>\n",
       "      <td>Internet</td>\n",
       "      <td>Acworth</td>\n",
       "      <td>Georgia</td>\n",
       "      <td>30101</td>\n",
       "      <td>Open</td>\n",
       "      <td>Yes</td>\n",
       "    </tr>\n",
       "    <tr>\n",
       "      <th>4</th>\n",
       "      <td>307175</td>\n",
       "      <td>Comcast not working and no service to boot</td>\n",
       "      <td>26-05-15</td>\n",
       "      <td>26-May-15</td>\n",
       "      <td>1:25:26 PM</td>\n",
       "      <td>Internet</td>\n",
       "      <td>Acworth</td>\n",
       "      <td>Georgia</td>\n",
       "      <td>30101</td>\n",
       "      <td>Solved</td>\n",
       "      <td>No</td>\n",
       "    </tr>\n",
       "  </tbody>\n",
       "</table>\n",
       "</div>"
      ],
      "text/plain": [
       "  Ticket #                                 Customer Complaint      Date  \\\n",
       "0   250635                      Comcast Cable Internet Speeds  22-04-15   \n",
       "1   223441       Payment disappear - service got disconnected  04-08-15   \n",
       "2   242732                                  Speed and Service  18-04-15   \n",
       "3   277946  Comcast Imposed a New Usage Cap of 300GB that ...  05-07-15   \n",
       "4   307175         Comcast not working and no service to boot  26-05-15   \n",
       "\n",
       "  Date_month_year         Time        Received Via      City     State  \\\n",
       "0       22-Apr-15   3:53:50 PM  Customer Care Call  Abingdon  Maryland   \n",
       "1       04-Aug-15  10:22:56 AM            Internet   Acworth   Georgia   \n",
       "2       18-Apr-15   9:55:47 AM            Internet   Acworth   Georgia   \n",
       "3       05-Jul-15  11:59:35 AM            Internet   Acworth   Georgia   \n",
       "4       26-May-15   1:25:26 PM            Internet   Acworth   Georgia   \n",
       "\n",
       "   Zip code  Status Filing on Behalf of Someone  \n",
       "0     21009  Closed                          No  \n",
       "1     30102  Closed                          No  \n",
       "2     30101  Closed                         Yes  \n",
       "3     30101    Open                         Yes  \n",
       "4     30101  Solved                          No  "
      ]
     },
     "execution_count": 3,
     "metadata": {},
     "output_type": "execute_result"
    }
   ],
   "source": [
    "df.head()"
   ]
  },
  {
   "cell_type": "code",
   "execution_count": 4,
   "id": "8a5d0679",
   "metadata": {},
   "outputs": [
    {
     "data": {
      "text/plain": [
       "Ticket #                       0\n",
       "Customer Complaint             0\n",
       "Date                           0\n",
       "Date_month_year                0\n",
       "Time                           0\n",
       "Received Via                   0\n",
       "City                           0\n",
       "State                          0\n",
       "Zip code                       0\n",
       "Status                         0\n",
       "Filing on Behalf of Someone    0\n",
       "dtype: int64"
      ]
     },
     "execution_count": 4,
     "metadata": {},
     "output_type": "execute_result"
    }
   ],
   "source": [
    "df.isnull().sum()"
   ]
  },
  {
   "cell_type": "code",
   "execution_count": 5,
   "id": "fbaae31f",
   "metadata": {},
   "outputs": [
    {
     "name": "stdout",
     "output_type": "stream",
     "text": [
      "<class 'pandas.core.frame.DataFrame'>\n",
      "RangeIndex: 2224 entries, 0 to 2223\n",
      "Data columns (total 11 columns):\n",
      " #   Column                       Non-Null Count  Dtype \n",
      "---  ------                       --------------  ----- \n",
      " 0   Ticket #                     2224 non-null   object\n",
      " 1   Customer Complaint           2224 non-null   object\n",
      " 2   Date                         2224 non-null   object\n",
      " 3   Date_month_year              2224 non-null   object\n",
      " 4   Time                         2224 non-null   object\n",
      " 5   Received Via                 2224 non-null   object\n",
      " 6   City                         2224 non-null   object\n",
      " 7   State                        2224 non-null   object\n",
      " 8   Zip code                     2224 non-null   int64 \n",
      " 9   Status                       2224 non-null   object\n",
      " 10  Filing on Behalf of Someone  2224 non-null   object\n",
      "dtypes: int64(1), object(10)\n",
      "memory usage: 191.2+ KB\n"
     ]
    }
   ],
   "source": [
    "df.info()"
   ]
  },
  {
   "cell_type": "code",
   "execution_count": 6,
   "id": "5b99e4d0",
   "metadata": {},
   "outputs": [
    {
     "data": {
      "text/plain": [
       "array(['Closed', 'Open', 'Solved', 'Pending'], dtype=object)"
      ]
     },
     "execution_count": 6,
     "metadata": {},
     "output_type": "execute_result"
    }
   ],
   "source": [
    "df[\"Status\"].unique()"
   ]
  },
  {
   "cell_type": "markdown",
   "id": "e8a777e6",
   "metadata": {},
   "source": [
    "## Created a new categorical variable with value as Open and Closed. Open & Pending is to be categorized as Open and Closed & Solved is to be categorized as Closed."
   ]
  },
  {
   "cell_type": "code",
   "execution_count": 7,
   "id": "3a92d29e",
   "metadata": {},
   "outputs": [],
   "source": [
    "df['New_Status']=[\"Open\" if i==\"Open\" or i==\"Pending\" else \"Closed\" for i in df[\"Status\"]]"
   ]
  },
  {
   "cell_type": "code",
   "execution_count": 8,
   "id": "7482a792",
   "metadata": {},
   "outputs": [
    {
     "data": {
      "text/html": [
       "<div>\n",
       "<style scoped>\n",
       "    .dataframe tbody tr th:only-of-type {\n",
       "        vertical-align: middle;\n",
       "    }\n",
       "\n",
       "    .dataframe tbody tr th {\n",
       "        vertical-align: top;\n",
       "    }\n",
       "\n",
       "    .dataframe thead th {\n",
       "        text-align: right;\n",
       "    }\n",
       "</style>\n",
       "<table border=\"1\" class=\"dataframe\">\n",
       "  <thead>\n",
       "    <tr style=\"text-align: right;\">\n",
       "      <th></th>\n",
       "      <th>Ticket #</th>\n",
       "      <th>Customer Complaint</th>\n",
       "      <th>Date</th>\n",
       "      <th>Date_month_year</th>\n",
       "      <th>Time</th>\n",
       "      <th>Received Via</th>\n",
       "      <th>City</th>\n",
       "      <th>State</th>\n",
       "      <th>Zip code</th>\n",
       "      <th>Status</th>\n",
       "      <th>Filing on Behalf of Someone</th>\n",
       "      <th>New_Status</th>\n",
       "    </tr>\n",
       "  </thead>\n",
       "  <tbody>\n",
       "    <tr>\n",
       "      <th>0</th>\n",
       "      <td>250635</td>\n",
       "      <td>Comcast Cable Internet Speeds</td>\n",
       "      <td>22-04-15</td>\n",
       "      <td>22-Apr-15</td>\n",
       "      <td>3:53:50 PM</td>\n",
       "      <td>Customer Care Call</td>\n",
       "      <td>Abingdon</td>\n",
       "      <td>Maryland</td>\n",
       "      <td>21009</td>\n",
       "      <td>Closed</td>\n",
       "      <td>No</td>\n",
       "      <td>Closed</td>\n",
       "    </tr>\n",
       "    <tr>\n",
       "      <th>1</th>\n",
       "      <td>223441</td>\n",
       "      <td>Payment disappear - service got disconnected</td>\n",
       "      <td>04-08-15</td>\n",
       "      <td>04-Aug-15</td>\n",
       "      <td>10:22:56 AM</td>\n",
       "      <td>Internet</td>\n",
       "      <td>Acworth</td>\n",
       "      <td>Georgia</td>\n",
       "      <td>30102</td>\n",
       "      <td>Closed</td>\n",
       "      <td>No</td>\n",
       "      <td>Closed</td>\n",
       "    </tr>\n",
       "    <tr>\n",
       "      <th>2</th>\n",
       "      <td>242732</td>\n",
       "      <td>Speed and Service</td>\n",
       "      <td>18-04-15</td>\n",
       "      <td>18-Apr-15</td>\n",
       "      <td>9:55:47 AM</td>\n",
       "      <td>Internet</td>\n",
       "      <td>Acworth</td>\n",
       "      <td>Georgia</td>\n",
       "      <td>30101</td>\n",
       "      <td>Closed</td>\n",
       "      <td>Yes</td>\n",
       "      <td>Closed</td>\n",
       "    </tr>\n",
       "    <tr>\n",
       "      <th>3</th>\n",
       "      <td>277946</td>\n",
       "      <td>Comcast Imposed a New Usage Cap of 300GB that ...</td>\n",
       "      <td>05-07-15</td>\n",
       "      <td>05-Jul-15</td>\n",
       "      <td>11:59:35 AM</td>\n",
       "      <td>Internet</td>\n",
       "      <td>Acworth</td>\n",
       "      <td>Georgia</td>\n",
       "      <td>30101</td>\n",
       "      <td>Open</td>\n",
       "      <td>Yes</td>\n",
       "      <td>Open</td>\n",
       "    </tr>\n",
       "    <tr>\n",
       "      <th>4</th>\n",
       "      <td>307175</td>\n",
       "      <td>Comcast not working and no service to boot</td>\n",
       "      <td>26-05-15</td>\n",
       "      <td>26-May-15</td>\n",
       "      <td>1:25:26 PM</td>\n",
       "      <td>Internet</td>\n",
       "      <td>Acworth</td>\n",
       "      <td>Georgia</td>\n",
       "      <td>30101</td>\n",
       "      <td>Solved</td>\n",
       "      <td>No</td>\n",
       "      <td>Closed</td>\n",
       "    </tr>\n",
       "  </tbody>\n",
       "</table>\n",
       "</div>"
      ],
      "text/plain": [
       "  Ticket #                                 Customer Complaint      Date  \\\n",
       "0   250635                      Comcast Cable Internet Speeds  22-04-15   \n",
       "1   223441       Payment disappear - service got disconnected  04-08-15   \n",
       "2   242732                                  Speed and Service  18-04-15   \n",
       "3   277946  Comcast Imposed a New Usage Cap of 300GB that ...  05-07-15   \n",
       "4   307175         Comcast not working and no service to boot  26-05-15   \n",
       "\n",
       "  Date_month_year         Time        Received Via      City     State  \\\n",
       "0       22-Apr-15   3:53:50 PM  Customer Care Call  Abingdon  Maryland   \n",
       "1       04-Aug-15  10:22:56 AM            Internet   Acworth   Georgia   \n",
       "2       18-Apr-15   9:55:47 AM            Internet   Acworth   Georgia   \n",
       "3       05-Jul-15  11:59:35 AM            Internet   Acworth   Georgia   \n",
       "4       26-May-15   1:25:26 PM            Internet   Acworth   Georgia   \n",
       "\n",
       "   Zip code  Status Filing on Behalf of Someone New_Status  \n",
       "0     21009  Closed                          No     Closed  \n",
       "1     30102  Closed                          No     Closed  \n",
       "2     30101  Closed                         Yes     Closed  \n",
       "3     30101    Open                         Yes       Open  \n",
       "4     30101  Solved                          No     Closed  "
      ]
     },
     "execution_count": 8,
     "metadata": {},
     "output_type": "execute_result"
    }
   ],
   "source": [
    "df.head()"
   ]
  },
  {
   "cell_type": "code",
   "execution_count": 9,
   "id": "35452c46",
   "metadata": {},
   "outputs": [
    {
     "data": {
      "text/html": [
       "<div>\n",
       "<style scoped>\n",
       "    .dataframe tbody tr th:only-of-type {\n",
       "        vertical-align: middle;\n",
       "    }\n",
       "\n",
       "    .dataframe tbody tr th {\n",
       "        vertical-align: top;\n",
       "    }\n",
       "\n",
       "    .dataframe thead th {\n",
       "        text-align: right;\n",
       "    }\n",
       "</style>\n",
       "<table border=\"1\" class=\"dataframe\">\n",
       "  <thead>\n",
       "    <tr style=\"text-align: right;\">\n",
       "      <th></th>\n",
       "      <th>Ticket #</th>\n",
       "      <th>Customer Complaint</th>\n",
       "      <th>Date</th>\n",
       "      <th>Date_month_year</th>\n",
       "      <th>Time</th>\n",
       "      <th>Received Via</th>\n",
       "      <th>City</th>\n",
       "      <th>State</th>\n",
       "      <th>Zip code</th>\n",
       "      <th>Status</th>\n",
       "      <th>Filing on Behalf of Someone</th>\n",
       "      <th>New_Status</th>\n",
       "    </tr>\n",
       "  </thead>\n",
       "  <tbody>\n",
       "    <tr>\n",
       "      <th>2219</th>\n",
       "      <td>213550</td>\n",
       "      <td>Service Availability</td>\n",
       "      <td>04-02-15</td>\n",
       "      <td>04-Feb-15</td>\n",
       "      <td>9:13:18 AM</td>\n",
       "      <td>Customer Care Call</td>\n",
       "      <td>Youngstown</td>\n",
       "      <td>Florida</td>\n",
       "      <td>32466</td>\n",
       "      <td>Closed</td>\n",
       "      <td>No</td>\n",
       "      <td>Closed</td>\n",
       "    </tr>\n",
       "    <tr>\n",
       "      <th>2220</th>\n",
       "      <td>318775</td>\n",
       "      <td>Comcast Monthly Billing for Returned Modem</td>\n",
       "      <td>06-02-15</td>\n",
       "      <td>06-Feb-15</td>\n",
       "      <td>1:24:39 PM</td>\n",
       "      <td>Customer Care Call</td>\n",
       "      <td>Ypsilanti</td>\n",
       "      <td>Michigan</td>\n",
       "      <td>48197</td>\n",
       "      <td>Solved</td>\n",
       "      <td>No</td>\n",
       "      <td>Closed</td>\n",
       "    </tr>\n",
       "    <tr>\n",
       "      <th>2221</th>\n",
       "      <td>331188</td>\n",
       "      <td>complaint about comcast</td>\n",
       "      <td>06-09-15</td>\n",
       "      <td>06-Sep-15</td>\n",
       "      <td>5:28:41 PM</td>\n",
       "      <td>Internet</td>\n",
       "      <td>Ypsilanti</td>\n",
       "      <td>Michigan</td>\n",
       "      <td>48197</td>\n",
       "      <td>Solved</td>\n",
       "      <td>No</td>\n",
       "      <td>Closed</td>\n",
       "    </tr>\n",
       "    <tr>\n",
       "      <th>2222</th>\n",
       "      <td>360489</td>\n",
       "      <td>Extremely unsatisfied Comcast customer</td>\n",
       "      <td>23-06-15</td>\n",
       "      <td>23-Jun-15</td>\n",
       "      <td>11:13:30 PM</td>\n",
       "      <td>Customer Care Call</td>\n",
       "      <td>Ypsilanti</td>\n",
       "      <td>Michigan</td>\n",
       "      <td>48197</td>\n",
       "      <td>Solved</td>\n",
       "      <td>No</td>\n",
       "      <td>Closed</td>\n",
       "    </tr>\n",
       "    <tr>\n",
       "      <th>2223</th>\n",
       "      <td>363614</td>\n",
       "      <td>Comcast, Ypsilanti MI Internet Speed</td>\n",
       "      <td>24-06-15</td>\n",
       "      <td>24-Jun-15</td>\n",
       "      <td>10:28:33 PM</td>\n",
       "      <td>Customer Care Call</td>\n",
       "      <td>Ypsilanti</td>\n",
       "      <td>Michigan</td>\n",
       "      <td>48198</td>\n",
       "      <td>Open</td>\n",
       "      <td>Yes</td>\n",
       "      <td>Open</td>\n",
       "    </tr>\n",
       "  </tbody>\n",
       "</table>\n",
       "</div>"
      ],
      "text/plain": [
       "     Ticket #                          Customer Complaint      Date  \\\n",
       "2219   213550                        Service Availability  04-02-15   \n",
       "2220   318775  Comcast Monthly Billing for Returned Modem  06-02-15   \n",
       "2221   331188                     complaint about comcast  06-09-15   \n",
       "2222   360489      Extremely unsatisfied Comcast customer  23-06-15   \n",
       "2223   363614        Comcast, Ypsilanti MI Internet Speed  24-06-15   \n",
       "\n",
       "     Date_month_year         Time        Received Via        City     State  \\\n",
       "2219       04-Feb-15   9:13:18 AM  Customer Care Call  Youngstown   Florida   \n",
       "2220       06-Feb-15   1:24:39 PM  Customer Care Call   Ypsilanti  Michigan   \n",
       "2221       06-Sep-15   5:28:41 PM            Internet   Ypsilanti  Michigan   \n",
       "2222       23-Jun-15  11:13:30 PM  Customer Care Call   Ypsilanti  Michigan   \n",
       "2223       24-Jun-15  10:28:33 PM  Customer Care Call   Ypsilanti  Michigan   \n",
       "\n",
       "      Zip code  Status Filing on Behalf of Someone New_Status  \n",
       "2219     32466  Closed                          No     Closed  \n",
       "2220     48197  Solved                          No     Closed  \n",
       "2221     48197  Solved                          No     Closed  \n",
       "2222     48197  Solved                          No     Closed  \n",
       "2223     48198    Open                         Yes       Open  "
      ]
     },
     "execution_count": 9,
     "metadata": {},
     "output_type": "execute_result"
    }
   ],
   "source": [
    "df.tail()"
   ]
  },
  {
   "cell_type": "code",
   "execution_count": 12,
   "id": "6450b782",
   "metadata": {},
   "outputs": [],
   "source": [
    "GB=df.groupby('State')"
   ]
  },
  {
   "cell_type": "markdown",
   "id": "cbbf4370",
   "metadata": {},
   "source": [
    "## Which state has the maximum complaints\n",
    "**Ans: Georgia**"
   ]
  },
  {
   "cell_type": "code",
   "execution_count": 21,
   "id": "3350a2fd",
   "metadata": {},
   "outputs": [
    {
     "data": {
      "text/html": [
       "<div>\n",
       "<style scoped>\n",
       "    .dataframe tbody tr th:only-of-type {\n",
       "        vertical-align: middle;\n",
       "    }\n",
       "\n",
       "    .dataframe tbody tr th {\n",
       "        vertical-align: top;\n",
       "    }\n",
       "\n",
       "    .dataframe thead th {\n",
       "        text-align: right;\n",
       "    }\n",
       "</style>\n",
       "<table border=\"1\" class=\"dataframe\">\n",
       "  <thead>\n",
       "    <tr style=\"text-align: right;\">\n",
       "      <th></th>\n",
       "      <th>State</th>\n",
       "      <th>Count of complaints</th>\n",
       "    </tr>\n",
       "  </thead>\n",
       "  <tbody>\n",
       "    <tr>\n",
       "      <th>10</th>\n",
       "      <td>Georgia</td>\n",
       "      <td>288</td>\n",
       "    </tr>\n",
       "  </tbody>\n",
       "</table>\n",
       "</div>"
      ],
      "text/plain": [
       "      State  Count of complaints\n",
       "10  Georgia                  288"
      ]
     },
     "execution_count": 21,
     "metadata": {},
     "output_type": "execute_result"
    }
   ],
   "source": [
    "GB.size().to_frame().reset_index().rename({0:'Count of complaints'},axis=1).sort_values('Count of complaints')[::-1].head(1)"
   ]
  },
  {
   "cell_type": "code",
   "execution_count": 34,
   "id": "057768fa",
   "metadata": {},
   "outputs": [],
   "source": [
    "GB2=df.groupby(['State','New_Status']).size().unstack()"
   ]
  },
  {
   "cell_type": "code",
   "execution_count": 58,
   "id": "725253b8",
   "metadata": {},
   "outputs": [],
   "source": [
    "t=GB2.sort_values('Open',ascending=False).fillna(0)"
   ]
  },
  {
   "cell_type": "code",
   "execution_count": 64,
   "id": "a759ddfa",
   "metadata": {
    "scrolled": true
   },
   "outputs": [
    {
     "data": {
      "text/html": [
       "<div>\n",
       "<style scoped>\n",
       "    .dataframe tbody tr th:only-of-type {\n",
       "        vertical-align: middle;\n",
       "    }\n",
       "\n",
       "    .dataframe tbody tr th {\n",
       "        vertical-align: top;\n",
       "    }\n",
       "\n",
       "    .dataframe thead th {\n",
       "        text-align: right;\n",
       "    }\n",
       "</style>\n",
       "<table border=\"1\" class=\"dataframe\">\n",
       "  <thead>\n",
       "    <tr style=\"text-align: right;\">\n",
       "      <th>New_Status</th>\n",
       "      <th>Closed</th>\n",
       "      <th>Open</th>\n",
       "    </tr>\n",
       "    <tr>\n",
       "      <th>State</th>\n",
       "      <th></th>\n",
       "      <th></th>\n",
       "    </tr>\n",
       "  </thead>\n",
       "  <tbody>\n",
       "    <tr>\n",
       "      <th>Georgia</th>\n",
       "      <td>208.0</td>\n",
       "      <td>80.0</td>\n",
       "    </tr>\n",
       "  </tbody>\n",
       "</table>\n",
       "</div>"
      ],
      "text/plain": [
       "New_Status  Closed  Open\n",
       "State                   \n",
       "Georgia      208.0  80.0"
      ]
     },
     "execution_count": 64,
     "metadata": {},
     "output_type": "execute_result"
    }
   ],
   "source": [
    "t.head(1)"
   ]
  },
  {
   "cell_type": "markdown",
   "id": "1912ef95",
   "metadata": {},
   "source": [
    "## Which state has the highest percentage of unresolved complaints\n",
    "**Ans: Georgia**"
   ]
  },
  {
   "cell_type": "code",
   "execution_count": 68,
   "id": "3f3a126a",
   "metadata": {},
   "outputs": [],
   "source": [
    "t1=t['Open'].sum()"
   ]
  },
  {
   "cell_type": "code",
   "execution_count": 69,
   "id": "d45d740d",
   "metadata": {},
   "outputs": [],
   "source": [
    "t2=t['Open'][0]"
   ]
  },
  {
   "cell_type": "code",
   "execution_count": 77,
   "id": "43bdd1c3",
   "metadata": {
    "scrolled": true
   },
   "outputs": [
    {
     "name": "stdout",
     "output_type": "stream",
     "text": [
      " Georgia is the state which has the highest percentage of unresolved complaints that is 15.47 %\n"
     ]
    }
   ],
   "source": [
    "print(\" Georgia is the state which has the highest percentage of unresolved complaints that is\",round((t2/t1)*100,2),'%')"
   ]
  },
  {
   "cell_type": "code",
   "execution_count": 78,
   "id": "48bda600",
   "metadata": {},
   "outputs": [
    {
     "data": {
      "text/plain": [
       "array(['Customer Care Call', 'Internet'], dtype=object)"
      ]
     },
     "execution_count": 78,
     "metadata": {},
     "output_type": "execute_result"
    }
   ],
   "source": [
    "df['Received Via'].unique()"
   ]
  },
  {
   "cell_type": "code",
   "execution_count": 95,
   "id": "a9aa2945",
   "metadata": {},
   "outputs": [],
   "source": [
    "GB3=df.groupby(['Received Via','New_Status']).size().unstack().fillna(0)"
   ]
  },
  {
   "cell_type": "code",
   "execution_count": 101,
   "id": "930b00a9",
   "metadata": {},
   "outputs": [],
   "source": [
    "t1=GB3['Closed']['Customer Care Call']\n",
    "t2=GB3['Closed']['Internet']\n",
    "total=t1+t2"
   ]
  },
  {
   "cell_type": "markdown",
   "id": "b88a18ad",
   "metadata": {},
   "source": [
    "## Provide the percentage of complaints resolved till date, which were received through the Internet and customer care calls."
   ]
  },
  {
   "cell_type": "code",
   "execution_count": 116,
   "id": "8d233d38",
   "metadata": {},
   "outputs": [
    {
     "name": "stdout",
     "output_type": "stream",
     "text": [
      "The percentage of complaints resolved till date, which were received through the Internet and customer care calls\n",
      "Customer care calls: 50.62 %\n",
      "Internet: 49.38 %\n"
     ]
    }
   ],
   "source": [
    "print('The percentage of complaints resolved till date, which were received through the Internet and customer care calls')\n",
    "print(\"Customer care calls: %.2f\" % ((t1/total)*100),'%')\n",
    "print(\"Internet: %.2f\" % ((t2/total)*100),'%')"
   ]
  },
  {
   "cell_type": "code",
   "execution_count": 117,
   "id": "d3e05f7d",
   "metadata": {},
   "outputs": [
    {
     "data": {
      "text/plain": [
       "Index(['Ticket #', 'Customer Complaint', 'Date', 'Date_month_year', 'Time',\n",
       "       'Received Via', 'City', 'State', 'Zip code', 'Status',\n",
       "       'Filing on Behalf of Someone', 'New_Status'],\n",
       "      dtype='object')"
      ]
     },
     "execution_count": 117,
     "metadata": {},
     "output_type": "execute_result"
    }
   ],
   "source": [
    "df.columns"
   ]
  },
  {
   "cell_type": "code",
   "execution_count": 130,
   "id": "11d6a0b5",
   "metadata": {},
   "outputs": [],
   "source": [
    "tt=df['Customer Complaint'].value_counts().to_frame().reset_index()"
   ]
  },
  {
   "cell_type": "code",
   "execution_count": 129,
   "id": "609592a3",
   "metadata": {},
   "outputs": [
    {
     "data": {
      "text/html": [
       "<div>\n",
       "<style scoped>\n",
       "    .dataframe tbody tr th:only-of-type {\n",
       "        vertical-align: middle;\n",
       "    }\n",
       "\n",
       "    .dataframe tbody tr th {\n",
       "        vertical-align: top;\n",
       "    }\n",
       "\n",
       "    .dataframe thead th {\n",
       "        text-align: right;\n",
       "    }\n",
       "</style>\n",
       "<table border=\"1\" class=\"dataframe\">\n",
       "  <thead>\n",
       "    <tr style=\"text-align: right;\">\n",
       "      <th></th>\n",
       "      <th>Customer Complaint</th>\n",
       "      <th>Count</th>\n",
       "    </tr>\n",
       "  </thead>\n",
       "  <tbody>\n",
       "    <tr>\n",
       "      <th>160</th>\n",
       "      <td>Comcast</td>\n",
       "      <td>83</td>\n",
       "    </tr>\n",
       "    <tr>\n",
       "      <th>331</th>\n",
       "      <td>Comcast Internet</td>\n",
       "      <td>18</td>\n",
       "    </tr>\n",
       "    <tr>\n",
       "      <th>266</th>\n",
       "      <td>Comcast Data Cap</td>\n",
       "      <td>17</td>\n",
       "    </tr>\n",
       "    <tr>\n",
       "      <th>1631</th>\n",
       "      <td>comcast</td>\n",
       "      <td>13</td>\n",
       "    </tr>\n",
       "    <tr>\n",
       "      <th>273</th>\n",
       "      <td>Comcast Data Caps</td>\n",
       "      <td>11</td>\n",
       "    </tr>\n",
       "    <tr>\n",
       "      <th>...</th>\n",
       "      <td>...</td>\n",
       "      <td>...</td>\n",
       "    </tr>\n",
       "    <tr>\n",
       "      <th>1213</th>\n",
       "      <td>Lack of availability</td>\n",
       "      <td>1</td>\n",
       "    </tr>\n",
       "    <tr>\n",
       "      <th>1214</th>\n",
       "      <td>Lack of communication and poor customer service</td>\n",
       "      <td>1</td>\n",
       "    </tr>\n",
       "    <tr>\n",
       "      <th>1215</th>\n",
       "      <td>Lack of consistent service</td>\n",
       "      <td>1</td>\n",
       "    </tr>\n",
       "    <tr>\n",
       "      <th>1216</th>\n",
       "      <td>Lack of internet speed</td>\n",
       "      <td>1</td>\n",
       "    </tr>\n",
       "    <tr>\n",
       "      <th>0</th>\n",
       "      <td>(Comcast is not my complaint!) Cyber Tele-mark...</td>\n",
       "      <td>1</td>\n",
       "    </tr>\n",
       "  </tbody>\n",
       "</table>\n",
       "<p>1841 rows × 2 columns</p>\n",
       "</div>"
      ],
      "text/plain": [
       "                                     Customer Complaint  Count\n",
       "160                                             Comcast     83\n",
       "331                                    Comcast Internet     18\n",
       "266                                    Comcast Data Cap     17\n",
       "1631                                            comcast     13\n",
       "273                                   Comcast Data Caps     11\n",
       "...                                                 ...    ...\n",
       "1213                               Lack of availability      1\n",
       "1214    Lack of communication and poor customer service      1\n",
       "1215                         Lack of consistent service      1\n",
       "1216                             Lack of internet speed      1\n",
       "0     (Comcast is not my complaint!) Cyber Tele-mark...      1\n",
       "\n",
       "[1841 rows x 2 columns]"
      ]
     },
     "execution_count": 129,
     "metadata": {},
     "output_type": "execute_result"
    }
   ],
   "source": [
    "df.groupby('Customer Complaint').size().to_frame().reset_index().rename({0:'Count'},axis=1).sort_values('Count')[::-1]"
   ]
  },
  {
   "cell_type": "markdown",
   "id": "e514aea8",
   "metadata": {},
   "source": [
    "## Provide a table with the frequency of complaint types"
   ]
  },
  {
   "cell_type": "code",
   "execution_count": 131,
   "id": "5ac0e23f",
   "metadata": {
    "scrolled": false
   },
   "outputs": [
    {
     "data": {
      "text/html": [
       "<div>\n",
       "<style scoped>\n",
       "    .dataframe tbody tr th:only-of-type {\n",
       "        vertical-align: middle;\n",
       "    }\n",
       "\n",
       "    .dataframe tbody tr th {\n",
       "        vertical-align: top;\n",
       "    }\n",
       "\n",
       "    .dataframe thead th {\n",
       "        text-align: right;\n",
       "    }\n",
       "</style>\n",
       "<table border=\"1\" class=\"dataframe\">\n",
       "  <thead>\n",
       "    <tr style=\"text-align: right;\">\n",
       "      <th></th>\n",
       "      <th>index</th>\n",
       "      <th>Customer Complaint</th>\n",
       "    </tr>\n",
       "  </thead>\n",
       "  <tbody>\n",
       "    <tr>\n",
       "      <th>0</th>\n",
       "      <td>Comcast</td>\n",
       "      <td>83</td>\n",
       "    </tr>\n",
       "    <tr>\n",
       "      <th>1</th>\n",
       "      <td>Comcast Internet</td>\n",
       "      <td>18</td>\n",
       "    </tr>\n",
       "    <tr>\n",
       "      <th>2</th>\n",
       "      <td>Comcast Data Cap</td>\n",
       "      <td>17</td>\n",
       "    </tr>\n",
       "    <tr>\n",
       "      <th>3</th>\n",
       "      <td>comcast</td>\n",
       "      <td>13</td>\n",
       "    </tr>\n",
       "    <tr>\n",
       "      <th>4</th>\n",
       "      <td>Comcast Billing</td>\n",
       "      <td>11</td>\n",
       "    </tr>\n",
       "    <tr>\n",
       "      <th>...</th>\n",
       "      <td>...</td>\n",
       "      <td>...</td>\n",
       "    </tr>\n",
       "    <tr>\n",
       "      <th>1836</th>\n",
       "      <td>Improper Billing and non resolution of issues</td>\n",
       "      <td>1</td>\n",
       "    </tr>\n",
       "    <tr>\n",
       "      <th>1837</th>\n",
       "      <td>Deceptive trade</td>\n",
       "      <td>1</td>\n",
       "    </tr>\n",
       "    <tr>\n",
       "      <th>1838</th>\n",
       "      <td>intermittent internet</td>\n",
       "      <td>1</td>\n",
       "    </tr>\n",
       "    <tr>\n",
       "      <th>1839</th>\n",
       "      <td>Internet Speed on Wireless Connection</td>\n",
       "      <td>1</td>\n",
       "    </tr>\n",
       "    <tr>\n",
       "      <th>1840</th>\n",
       "      <td>Comcast, Ypsilanti MI Internet Speed</td>\n",
       "      <td>1</td>\n",
       "    </tr>\n",
       "  </tbody>\n",
       "</table>\n",
       "<p>1841 rows × 2 columns</p>\n",
       "</div>"
      ],
      "text/plain": [
       "                                              index  Customer Complaint\n",
       "0                                           Comcast                  83\n",
       "1                                  Comcast Internet                  18\n",
       "2                                  Comcast Data Cap                  17\n",
       "3                                           comcast                  13\n",
       "4                                   Comcast Billing                  11\n",
       "...                                             ...                 ...\n",
       "1836  Improper Billing and non resolution of issues                   1\n",
       "1837                                Deceptive trade                   1\n",
       "1838                          intermittent internet                   1\n",
       "1839          Internet Speed on Wireless Connection                   1\n",
       "1840           Comcast, Ypsilanti MI Internet Speed                   1\n",
       "\n",
       "[1841 rows x 2 columns]"
      ]
     },
     "execution_count": 131,
     "metadata": {},
     "output_type": "execute_result"
    }
   ],
   "source": [
    "tt=df['Customer Complaint'].value_counts().to_frame().reset_index()\n",
    "tt"
   ]
  },
  {
   "cell_type": "code",
   "execution_count": 156,
   "id": "4b53bd6e",
   "metadata": {},
   "outputs": [],
   "source": [
    "font = {'family' : 'sans-serif',\n",
    "        'weight' : 'bold',\n",
    "        'size'   : 22}\n",
    "plt.rc('font', **font)"
   ]
  },
  {
   "cell_type": "markdown",
   "id": "24798483",
   "metadata": {},
   "source": [
    "## Provide state wise status of complaints in a stacked bar chart. Use the categorized variable from Q3"
   ]
  },
  {
   "cell_type": "code",
   "execution_count": 157,
   "id": "a8493196",
   "metadata": {},
   "outputs": [
    {
     "data": {
      "text/plain": [
       "Text(0.5, 0, 'Count')"
      ]
     },
     "execution_count": 157,
     "metadata": {},
     "output_type": "execute_result"
    },
    {
     "data": {
      "image/png": "[encoded data removed]",
      "text/plain": [
       "<Figure size 2160x3600 with 1 Axes>"
      ]
     },
     "metadata": {
      "needs_background": "light"
     },
     "output_type": "display_data"
    }
   ],
   "source": [
    "t.plot(kind='barh',figsize=(30,50),stacked=True)\n",
    "plt.xlabel('Count')"
   ]
  },
  {
   "cell_type": "code",
   "execution_count": 165,
   "id": "e57336a2",
   "metadata": {},
   "outputs": [
    {
     "data": {
      "text/plain": [
       "dtype('<M8[ns]')"
      ]
     },
     "execution_count": 165,
     "metadata": {},
     "output_type": "execute_result"
    }
   ],
   "source": [
    "df['Date'].dtype"
   ]
  },
  {
   "cell_type": "code",
   "execution_count": 160,
   "id": "d94a844c",
   "metadata": {},
   "outputs": [
    {
     "data": {
      "text/html": [
       "<div>\n",
       "<style scoped>\n",
       "    .dataframe tbody tr th:only-of-type {\n",
       "        vertical-align: middle;\n",
       "    }\n",
       "\n",
       "    .dataframe tbody tr th {\n",
       "        vertical-align: top;\n",
       "    }\n",
       "\n",
       "    .dataframe thead th {\n",
       "        text-align: right;\n",
       "    }\n",
       "</style>\n",
       "<table border=\"1\" class=\"dataframe\">\n",
       "  <thead>\n",
       "    <tr style=\"text-align: right;\">\n",
       "      <th></th>\n",
       "      <th>Ticket #</th>\n",
       "      <th>Customer Complaint</th>\n",
       "      <th>Date</th>\n",
       "      <th>Date_month_year</th>\n",
       "      <th>Time</th>\n",
       "      <th>Received Via</th>\n",
       "      <th>City</th>\n",
       "      <th>State</th>\n",
       "      <th>Zip code</th>\n",
       "      <th>Status</th>\n",
       "      <th>Filing on Behalf of Someone</th>\n",
       "      <th>New_Status</th>\n",
       "    </tr>\n",
       "  </thead>\n",
       "  <tbody>\n",
       "    <tr>\n",
       "      <th>0</th>\n",
       "      <td>250635</td>\n",
       "      <td>Comcast Cable Internet Speeds</td>\n",
       "      <td>22-04-15</td>\n",
       "      <td>22-Apr-15</td>\n",
       "      <td>3:53:50 PM</td>\n",
       "      <td>Customer Care Call</td>\n",
       "      <td>Abingdon</td>\n",
       "      <td>Maryland</td>\n",
       "      <td>21009</td>\n",
       "      <td>Closed</td>\n",
       "      <td>No</td>\n",
       "      <td>Closed</td>\n",
       "    </tr>\n",
       "    <tr>\n",
       "      <th>1</th>\n",
       "      <td>223441</td>\n",
       "      <td>Payment disappear - service got disconnected</td>\n",
       "      <td>04-08-15</td>\n",
       "      <td>04-Aug-15</td>\n",
       "      <td>10:22:56 AM</td>\n",
       "      <td>Internet</td>\n",
       "      <td>Acworth</td>\n",
       "      <td>Georgia</td>\n",
       "      <td>30102</td>\n",
       "      <td>Closed</td>\n",
       "      <td>No</td>\n",
       "      <td>Closed</td>\n",
       "    </tr>\n",
       "    <tr>\n",
       "      <th>2</th>\n",
       "      <td>242732</td>\n",
       "      <td>Speed and Service</td>\n",
       "      <td>18-04-15</td>\n",
       "      <td>18-Apr-15</td>\n",
       "      <td>9:55:47 AM</td>\n",
       "      <td>Internet</td>\n",
       "      <td>Acworth</td>\n",
       "      <td>Georgia</td>\n",
       "      <td>30101</td>\n",
       "      <td>Closed</td>\n",
       "      <td>Yes</td>\n",
       "      <td>Closed</td>\n",
       "    </tr>\n",
       "    <tr>\n",
       "      <th>3</th>\n",
       "      <td>277946</td>\n",
       "      <td>Comcast Imposed a New Usage Cap of 300GB that ...</td>\n",
       "      <td>05-07-15</td>\n",
       "      <td>05-Jul-15</td>\n",
       "      <td>11:59:35 AM</td>\n",
       "      <td>Internet</td>\n",
       "      <td>Acworth</td>\n",
       "      <td>Georgia</td>\n",
       "      <td>30101</td>\n",
       "      <td>Open</td>\n",
       "      <td>Yes</td>\n",
       "      <td>Open</td>\n",
       "    </tr>\n",
       "    <tr>\n",
       "      <th>4</th>\n",
       "      <td>307175</td>\n",
       "      <td>Comcast not working and no service to boot</td>\n",
       "      <td>26-05-15</td>\n",
       "      <td>26-May-15</td>\n",
       "      <td>1:25:26 PM</td>\n",
       "      <td>Internet</td>\n",
       "      <td>Acworth</td>\n",
       "      <td>Georgia</td>\n",
       "      <td>30101</td>\n",
       "      <td>Solved</td>\n",
       "      <td>No</td>\n",
       "      <td>Closed</td>\n",
       "    </tr>\n",
       "  </tbody>\n",
       "</table>\n",
       "</div>"
      ],
      "text/plain": [
       "  Ticket #                                 Customer Complaint      Date  \\\n",
       "0   250635                      Comcast Cable Internet Speeds  22-04-15   \n",
       "1   223441       Payment disappear - service got disconnected  04-08-15   \n",
       "2   242732                                  Speed and Service  18-04-15   \n",
       "3   277946  Comcast Imposed a New Usage Cap of 300GB that ...  05-07-15   \n",
       "4   307175         Comcast not working and no service to boot  26-05-15   \n",
       "\n",
       "  Date_month_year         Time        Received Via      City     State  \\\n",
       "0       22-Apr-15   3:53:50 PM  Customer Care Call  Abingdon  Maryland   \n",
       "1       04-Aug-15  10:22:56 AM            Internet   Acworth   Georgia   \n",
       "2       18-Apr-15   9:55:47 AM            Internet   Acworth   Georgia   \n",
       "3       05-Jul-15  11:59:35 AM            Internet   Acworth   Georgia   \n",
       "4       26-May-15   1:25:26 PM            Internet   Acworth   Georgia   \n",
       "\n",
       "   Zip code  Status Filing on Behalf of Someone New_Status  \n",
       "0     21009  Closed                          No     Closed  \n",
       "1     30102  Closed                          No     Closed  \n",
       "2     30101  Closed                         Yes     Closed  \n",
       "3     30101    Open                         Yes       Open  \n",
       "4     30101  Solved                          No     Closed  "
      ]
     },
     "execution_count": 160,
     "metadata": {},
     "output_type": "execute_result"
    }
   ],
   "source": [
    "df.head()"
   ]
  },
  {
   "cell_type": "code",
   "execution_count": 161,
   "id": "34cfaa15",
   "metadata": {},
   "outputs": [],
   "source": [
    "df['Date']=pd.to_datetime(df['Date'])"
   ]
  },
  {
   "cell_type": "code",
   "execution_count": 166,
   "id": "c16eae59",
   "metadata": {
    "scrolled": true
   },
   "outputs": [
    {
     "name": "stdout",
     "output_type": "stream",
     "text": [
      "<class 'pandas.core.frame.DataFrame'>\n",
      "RangeIndex: 2224 entries, 0 to 2223\n",
      "Data columns (total 12 columns):\n",
      " #   Column                       Non-Null Count  Dtype         \n",
      "---  ------                       --------------  -----         \n",
      " 0   Ticket #                     2224 non-null   object        \n",
      " 1   Customer Complaint           2224 non-null   object        \n",
      " 2   Date                         2224 non-null   datetime64[ns]\n",
      " 3   Date_month_year              2224 non-null   object        \n",
      " 4   Time                         2224 non-null   object        \n",
      " 5   Received Via                 2224 non-null   object        \n",
      " 6   City                         2224 non-null   object        \n",
      " 7   State                        2224 non-null   object        \n",
      " 8   Zip code                     2224 non-null   int64         \n",
      " 9   Status                       2224 non-null   object        \n",
      " 10  Filing on Behalf of Someone  2224 non-null   object        \n",
      " 11  New_Status                   2224 non-null   object        \n",
      "dtypes: datetime64[ns](1), int64(1), object(10)\n",
      "memory usage: 208.6+ KB\n"
     ]
    }
   ],
   "source": [
    "df.info()"
   ]
  },
  {
   "cell_type": "markdown",
   "id": "e7bc80fa",
   "metadata": {},
   "source": [
    "## Provide the trend chart for the number of complaints at daily granularity levels."
   ]
  },
  {
   "cell_type": "code",
   "execution_count": 181,
   "id": "8029b1ee",
   "metadata": {},
   "outputs": [
    {
     "data": {
      "text/plain": [
       "Text(0, 0.5, 'Counts')"
      ]
     },
     "execution_count": 181,
     "metadata": {},
     "output_type": "execute_result"
    },
    {
     "data": {
      "image/png": "[encoded data removed]",
      "text/plain": [
       "<Figure size 1440x360 with 1 Axes>"
      ]
     },
     "metadata": {
      "needs_background": "light"
     },
     "output_type": "display_data"
    }
   ],
   "source": [
    "font = {'family' : 'sans-serif',\n",
    "        'weight' : 'bold',\n",
    "        'size'   : 12}\n",
    "plt.rc('font', **font)\n",
    "df['Date'].value_counts().plot(figsize=(20,5))\n",
    "plt.xlabel('Date')\n",
    "plt.ylabel('Counts')"
   ]
  },
  {
   "cell_type": "code",
   "execution_count": 188,
   "id": "0ea6cfa1",
   "metadata": {},
   "outputs": [],
   "source": [
    "df['Date_month_year']=pd.to_datetime(df['Date_month_year'])\n",
    "df['Month_1']=df['Date_month_year'].apply(lambda x:x.month)"
   ]
  },
  {
   "cell_type": "code",
   "execution_count": 189,
   "id": "00bdb05b",
   "metadata": {},
   "outputs": [
    {
     "data": {
      "text/plain": [
       "6     1046\n",
       "4      375\n",
       "5      317\n",
       "8       67\n",
       "12      65\n",
       "2       59\n",
       "1       55\n",
       "9       55\n",
       "10      53\n",
       "7       49\n",
       "3       45\n",
       "11      38\n",
       "Name: Month_1, dtype: int64"
      ]
     },
     "execution_count": 189,
     "metadata": {},
     "output_type": "execute_result"
    }
   ],
   "source": [
    "df['Month_1'].value_counts()"
   ]
  },
  {
   "cell_type": "code",
   "execution_count": 193,
   "id": "9b49caf2",
   "metadata": {},
   "outputs": [],
   "source": [
    "df.rename({'Month_1':'Month'},axis=1,inplace=True)"
   ]
  },
  {
   "cell_type": "code",
   "execution_count": 191,
   "id": "3e7f8087",
   "metadata": {},
   "outputs": [],
   "source": [
    "df.drop('Month',axis=1,inplace=True)"
   ]
  },
  {
   "cell_type": "code",
   "execution_count": 194,
   "id": "06156085",
   "metadata": {
    "scrolled": true
   },
   "outputs": [
    {
     "data": {
      "text/html": [
       "<div>\n",
       "<style scoped>\n",
       "    .dataframe tbody tr th:only-of-type {\n",
       "        vertical-align: middle;\n",
       "    }\n",
       "\n",
       "    .dataframe tbody tr th {\n",
       "        vertical-align: top;\n",
       "    }\n",
       "\n",
       "    .dataframe thead th {\n",
       "        text-align: right;\n",
       "    }\n",
       "</style>\n",
       "<table border=\"1\" class=\"dataframe\">\n",
       "  <thead>\n",
       "    <tr style=\"text-align: right;\">\n",
       "      <th></th>\n",
       "      <th>Ticket #</th>\n",
       "      <th>Customer Complaint</th>\n",
       "      <th>Date</th>\n",
       "      <th>Date_month_year</th>\n",
       "      <th>Time</th>\n",
       "      <th>Received Via</th>\n",
       "      <th>City</th>\n",
       "      <th>State</th>\n",
       "      <th>Zip code</th>\n",
       "      <th>Status</th>\n",
       "      <th>Filing on Behalf of Someone</th>\n",
       "      <th>New_Status</th>\n",
       "      <th>Month</th>\n",
       "    </tr>\n",
       "  </thead>\n",
       "  <tbody>\n",
       "    <tr>\n",
       "      <th>0</th>\n",
       "      <td>250635</td>\n",
       "      <td>Comcast Cable Internet Speeds</td>\n",
       "      <td>2015-04-22</td>\n",
       "      <td>2015-04-22</td>\n",
       "      <td>3:53:50 PM</td>\n",
       "      <td>Customer Care Call</td>\n",
       "      <td>Abingdon</td>\n",
       "      <td>Maryland</td>\n",
       "      <td>21009</td>\n",
       "      <td>Closed</td>\n",
       "      <td>No</td>\n",
       "      <td>Closed</td>\n",
       "      <td>4</td>\n",
       "    </tr>\n",
       "    <tr>\n",
       "      <th>1</th>\n",
       "      <td>223441</td>\n",
       "      <td>Payment disappear - service got disconnected</td>\n",
       "      <td>2015-04-08</td>\n",
       "      <td>2015-08-04</td>\n",
       "      <td>10:22:56 AM</td>\n",
       "      <td>Internet</td>\n",
       "      <td>Acworth</td>\n",
       "      <td>Georgia</td>\n",
       "      <td>30102</td>\n",
       "      <td>Closed</td>\n",
       "      <td>No</td>\n",
       "      <td>Closed</td>\n",
       "      <td>8</td>\n",
       "    </tr>\n",
       "    <tr>\n",
       "      <th>2</th>\n",
       "      <td>242732</td>\n",
       "      <td>Speed and Service</td>\n",
       "      <td>2015-04-18</td>\n",
       "      <td>2015-04-18</td>\n",
       "      <td>9:55:47 AM</td>\n",
       "      <td>Internet</td>\n",
       "      <td>Acworth</td>\n",
       "      <td>Georgia</td>\n",
       "      <td>30101</td>\n",
       "      <td>Closed</td>\n",
       "      <td>Yes</td>\n",
       "      <td>Closed</td>\n",
       "      <td>4</td>\n",
       "    </tr>\n",
       "    <tr>\n",
       "      <th>3</th>\n",
       "      <td>277946</td>\n",
       "      <td>Comcast Imposed a New Usage Cap of 300GB that ...</td>\n",
       "      <td>2015-05-07</td>\n",
       "      <td>2015-07-05</td>\n",
       "      <td>11:59:35 AM</td>\n",
       "      <td>Internet</td>\n",
       "      <td>Acworth</td>\n",
       "      <td>Georgia</td>\n",
       "      <td>30101</td>\n",
       "      <td>Open</td>\n",
       "      <td>Yes</td>\n",
       "      <td>Open</td>\n",
       "      <td>7</td>\n",
       "    </tr>\n",
       "    <tr>\n",
       "      <th>4</th>\n",
       "      <td>307175</td>\n",
       "      <td>Comcast not working and no service to boot</td>\n",
       "      <td>2015-05-26</td>\n",
       "      <td>2015-05-26</td>\n",
       "      <td>1:25:26 PM</td>\n",
       "      <td>Internet</td>\n",
       "      <td>Acworth</td>\n",
       "      <td>Georgia</td>\n",
       "      <td>30101</td>\n",
       "      <td>Solved</td>\n",
       "      <td>No</td>\n",
       "      <td>Closed</td>\n",
       "      <td>5</td>\n",
       "    </tr>\n",
       "  </tbody>\n",
       "</table>\n",
       "</div>"
      ],
      "text/plain": [
       "  Ticket #                                 Customer Complaint       Date  \\\n",
       "0   250635                      Comcast Cable Internet Speeds 2015-04-22   \n",
       "1   223441       Payment disappear - service got disconnected 2015-04-08   \n",
       "2   242732                                  Speed and Service 2015-04-18   \n",
       "3   277946  Comcast Imposed a New Usage Cap of 300GB that ... 2015-05-07   \n",
       "4   307175         Comcast not working and no service to boot 2015-05-26   \n",
       "\n",
       "  Date_month_year         Time        Received Via      City     State  \\\n",
       "0      2015-04-22   3:53:50 PM  Customer Care Call  Abingdon  Maryland   \n",
       "1      2015-08-04  10:22:56 AM            Internet   Acworth   Georgia   \n",
       "2      2015-04-18   9:55:47 AM            Internet   Acworth   Georgia   \n",
       "3      2015-07-05  11:59:35 AM            Internet   Acworth   Georgia   \n",
       "4      2015-05-26   1:25:26 PM            Internet   Acworth   Georgia   \n",
       "\n",
       "   Zip code  Status Filing on Behalf of Someone New_Status  Month  \n",
       "0     21009  Closed                          No     Closed      4  \n",
       "1     30102  Closed                          No     Closed      8  \n",
       "2     30101  Closed                         Yes     Closed      4  \n",
       "3     30101    Open                         Yes       Open      7  \n",
       "4     30101  Solved                          No     Closed      5  "
      ]
     },
     "execution_count": 194,
     "metadata": {},
     "output_type": "execute_result"
    }
   ],
   "source": [
    "df.head()"
   ]
  },
  {
   "cell_type": "markdown",
   "id": "12308927",
   "metadata": {},
   "source": [
    "## Provide the trend chart for the number of complaints at monthly granularity levels."
   ]
  },
  {
   "cell_type": "code",
   "execution_count": 206,
   "id": "52fad895",
   "metadata": {},
   "outputs": [
    {
     "data": {
      "text/plain": [
       "<AxesSubplot:xlabel='Month', ylabel='Customer Complaint'>"
      ]
     },
     "execution_count": 206,
     "metadata": {},
     "output_type": "execute_result"
    },
    {
     "data": {
      "image/png": "[encoded data removed]",
      "text/plain": [
       "<Figure size 576x288 with 1 Axes>"
      ]
     },
     "metadata": {
      "needs_background": "light"
     },
     "output_type": "display_data"
    }
   ],
   "source": [
    "t4 = df.groupby('Month').count().reset_index()\n",
    "plt.figure(figsize=(8,4))\n",
    "sns.lineplot(x=t4['Month'], y= t4['Customer Complaint'], sort=False,markers = \"o\")"
   ]
  },
  {
   "cell_type": "code",
   "execution_count": null,
   "id": "200a1ed2",
   "metadata": {},
   "outputs": [],
   "source": []
  }
 ],
 "metadata": {
  "kernelspec": {
   "display_name": "Python 3 (ipykernel)",
   "language": "python",
   "name": "python3"
  },
  "language_info": {
   "codemirror_mode": {
    "name": "ipython",
    "version": 3
   },
   "file_extension": ".py",
   "mimetype": "text/x-python",
   "name": "python",
   "nbconvert_exporter": "python",
   "pygments_lexer": "ipython3",
   "version": "3.9.7"
  }
 },
 "nbformat": 4,
 "nbformat_minor": 5
}
